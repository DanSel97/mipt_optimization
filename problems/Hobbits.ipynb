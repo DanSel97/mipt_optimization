{
 "cells": [
  {
   "cell_type": "markdown",
   "metadata": {},
   "source": [
    "[Источник](https://courses.cs.ut.ee/MTAT.03.227/2015_spring/uploads/Main/home-exercises-5.pdf)\n",
    "\n",
    "# Одномерная деревня\n",
    "\n",
    "##### Выполнил: ИМЯ_ФАМИЛИЯ\n",
    "\n",
    "##### Баллов:   /50\n",
    "\n",
    "Далее речь пойдет о полностью вымышленном мире, в котором возможны одномерные деревни и прочие привратности судьбы.\n",
    "Пусть у нас есть одномерная деревня, в которой $N$ домов располагаются на отрезке от $0$ до $l$ км."
   ]
  },
  {
   "cell_type": "code",
   "execution_count": 1,
   "metadata": {},
   "outputs": [],
   "source": [
    "%matplotlib inline\n",
    "import numpy as np\n",
    "from matplotlib import pyplot as plt\n",
    "import matplotlib as mpl\n",
    "import seaborn as sns\n",
    "sns.set()"
   ]
  },
  {
   "cell_type": "markdown",
   "metadata": {},
   "source": [
    "Для Вашего удобства ниже написана функция, которая рисует небольшую одномерную деревню."
   ]
  },
  {
   "cell_type": "code",
   "execution_count": 2,
   "metadata": {},
   "outputs": [],
   "source": [
    "def plot_village(coordinates, l=1):\n",
    "    # Checking, that all the coordinates are less than l\n",
    "    assert (coordinates <= l).all(), 'All the houses should be in a village'\n",
    "    \n",
    "    # Draw horizontal line\n",
    "    plt.hlines(0, 0, l)\n",
    "    plt.xlim(0, l)\n",
    "    plt.ylim(-0.5, 0.5)\n",
    "    \n",
    "    # Draw house points\n",
    "    y = np.zeros(np.shape(coordinates))\n",
    "    plt.title('The Hobbit Village')\n",
    "    plt.plot(coordinates,y,'o',ms = 10)\n",
    "    plt.axis('off')\n",
    "    plt.xlabel('Coordinates')\n",
    "    fig = plt.gcf()\n",
    "    fig.set_size_inches(15, 1)\n",
    "    plt.show()"
   ]
  },
  {
   "cell_type": "code",
   "execution_count": 5,
   "metadata": {},
   "outputs": [
    {
     "data": {
      "image/png": "[encoded data removed]",
      "text/plain": [
       "<matplotlib.figure.Figure at 0x20b67deb390>"
      ]
     },
     "metadata": {},
     "output_type": "display_data"
    }
   ],
   "source": [
    "N = 25\n",
    "l = 1\n",
    "x = np.random.rand(N)*l\n",
    "    \n",
    "plot_village(x, l)"
   ]
  },
  {
   "cell_type": "markdown",
   "metadata": {},
   "source": [
    "Жители одномерной деревни хотят подключиться к интернету, для этого им необходимо поставить центральную обслуживающую станцию, от которой кабель будет тянуться ко всем домам деревни. Пусть цена кабеля, который надо тянуть от станции до каждого дома независимо, определяется некоторой функцией $p(d)$. Тогда ясно, что деревне придется заплатить следующую сумму за доступ в мировую паутину:\n",
    "$$\n",
    "P(w, x) = \\sum\\limits_{i=1}^N p(d_i) = \\sum\\limits_{i=1}^N p(|w - x_i|)\n",
    "$$\n",
    "Здесь $w$ - координата станции, $x_i$ - координата i-ого домика."
   ]
  },
  {
   "cell_type": "markdown",
   "metadata": {},
   "source": [
    "## Задача 1 (1)\n",
    "Найдите аналитически оптимальную позицию $w^*$, доставляющую минимум функции $P(w, x)$ при условии, что $p(d) = d^2$"
   ]
  },
  {
   "cell_type": "markdown",
   "metadata": {},
   "source": []
  },
  {
   "cell_type": "markdown",
   "metadata": {},
   "source": [
    "## Задача 2 (2)\n",
    "Напишите функцию `P`, которая берет на вход позицию станции $w$ и вектор координат $x$ и возвращает значение функции потерь $P$."
   ]
  },
  {
   "cell_type": "code",
   "execution_count": 4,
   "metadata": {},
   "outputs": [],
   "source": [
    "def P(w, x):\n",
    "    return P"
   ]
  },
  {
   "cell_type": "markdown",
   "metadata": {},
   "source": [
    "Постройте значение функции потерь для значения координат от $0$ до $l$."
   ]
  },
  {
   "cell_type": "code",
   "execution_count": null,
   "metadata": {},
   "outputs": [],
   "source": [
    "w = np.linspace(0,l)\n",
    "p = [P(w_i, x) for w_i in w]\n",
    "plt.title('Loss function')\n",
    "plt.xlabel('Router position')\n",
    "plt.plot(w,p)\n",
    "fig = plt.gcf()\n",
    "fig.set_size_inches(12, 5)"
   ]
  },
  {
   "cell_type": "markdown",
   "metadata": {},
   "source": [
    "## Задача 3 (2)\n",
    "Напишите функцию `dP`, которая берет на вход позицию станции $w$ и вектор координат $x$ и возвращает значение градиента функции потерь $\\nabla P$ как функции от $w$."
   ]
  },
  {
   "cell_type": "code",
   "execution_count": 5,
   "metadata": {},
   "outputs": [],
   "source": [
    "def dP(w, x):\n",
    "    \n",
    "    return dP"
   ]
  },
  {
   "cell_type": "markdown",
   "metadata": {},
   "source": [
    "Постройте значение функции `dP` для значения координат от $0$ до $l$. Какая точка на графике представляет особый интерес? Почему?"
   ]
  },
  {
   "cell_type": "code",
   "execution_count": null,
   "metadata": {},
   "outputs": [],
   "source": [
    "w = np.linspace(0,l)\n",
    "dp = [dP(w_i, x) for w_i in w]\n",
    "plt.title('Gradient of the loss function')\n",
    "plt.xlabel('Router position')\n",
    "plt.plot(w,dp)\n",
    "fig = plt.gcf()\n",
    "fig.set_size_inches(12, 5)"
   ]
  },
  {
   "cell_type": "markdown",
   "metadata": {},
   "source": [
    "## Задача 4 (2)\n",
    "Напишите функцию `gradient_descent`, которая возвращает значение $w_k$ через фиксированное число шагов. Длина функции не должна превышать 5 строчек кода.\n",
    "\n",
    "$$\n",
    "w_{k+1} = w_k - \\mu \\nabla P(w_k)\n",
    "$$"
   ]
  },
  {
   "cell_type": "code",
   "execution_count": 6,
   "metadata": {},
   "outputs": [],
   "source": [
    "def gradient_descent(P, dP, w0, mu, Nsteps):\n",
    "  \n",
    "\n",
    "\n",
    "    return w"
   ]
  },
  {
   "cell_type": "markdown",
   "metadata": {},
   "source": [
    "## Задача 5 (2)\n",
    "Модифицируйте функцию `gradient_descent` так, чтобы она возвращала всю траекторию оптимизации (все значения $w_k$). Постройте графики $P(w_k ,x)$ для $\\mu = 0.01, 0.1, 0.15, 0.19, 0.20, 0.21$ . Сделайте выводы."
   ]
  },
  {
   "cell_type": "code",
   "execution_count": 7,
   "metadata": {},
   "outputs": [],
   "source": [
    "def gradient_descent(P, dP, w0, mu, Nsteps):\n",
    "\n",
    "    return trajectory"
   ]
  },
  {
   "cell_type": "markdown",
   "metadata": {},
   "source": [
    "## Задача 6 (2)\n",
    "Напишите функцию `ddP`, которая берет на вход позицию станции $w$ и вектор координат $x$ и возвращает значение гессиана функции потерь $\\nabla^2 P$ как функции от $w$."
   ]
  },
  {
   "cell_type": "code",
   "execution_count": 8,
   "metadata": {},
   "outputs": [],
   "source": [
    "def ddP(w, x):\n",
    "\n",
    "    return ddP"
   ]
  },
  {
   "cell_type": "markdown",
   "metadata": {},
   "source": [
    "Постройте значение функции `ddP` для значения координат от $0$ до $l$."
   ]
  },
  {
   "cell_type": "code",
   "execution_count": null,
   "metadata": {},
   "outputs": [],
   "source": []
  },
  {
   "cell_type": "markdown",
   "metadata": {},
   "source": [
    "## Задача 7 (3)\n",
    "Напишите функцию `newton_descent`, которая возвращает всю оптимизационную траекторию $(w_k)$ через фиксированное число шагов."
   ]
  },
  {
   "cell_type": "code",
   "execution_count": 13,
   "metadata": {},
   "outputs": [],
   "source": [
    "def newton_descent(P, dP, ddP, w0, Nsteps):\n",
    "\n",
    "    return trajectory"
   ]
  },
  {
   "cell_type": "markdown",
   "metadata": {},
   "source": [
    "Сравните траекторию метода с траекторией градиентного спуска. Исследуйте поведение метода Ньютона в зависимости от разной стартовой точки $w_0$."
   ]
  },
  {
   "cell_type": "markdown",
   "metadata": {},
   "source": [
    "Давайте нарисуем оптимальное положение роутера в деревне хоббитцов:"
   ]
  },
  {
   "cell_type": "code",
   "execution_count": 9,
   "metadata": {},
   "outputs": [],
   "source": [
    "def plot_village_with_internet(coordinates, router_coordinates, l=1):\n",
    "    # Checking, that all the coordinates are less than l\n",
    "    assert (np.array(coordinates) <= l).all(), 'All the houses should be in the village'\n",
    "    assert (np.array(router_coordinates) <= l).all(), 'Router should be in the village'\n",
    "    \n",
    "    # Draw horizontal line\n",
    "    plt.hlines(0, 0, l)\n",
    "    plt.xlim(0, l)\n",
    "    plt.ylim(-0.5, 0.5)\n",
    "    \n",
    "    # Draw house points\n",
    "    y = np.zeros(np.shape(coordinates))\n",
    "    plt.title('Modern Hobbit Village')\n",
    "    plt.plot(coordinates,y,'o',ms = 10)  \n",
    "    \n",
    "    # Draw routers\n",
    "    y = np.zeros(np.shape(router_coordinates))\n",
    "    plt.plot(router_coordinates,y,'*',ms = 50)\n",
    "    plt.axis('off')\n",
    "    plt.xlabel('Coordinates')\n",
    "    fig = plt.gcf()\n",
    "    fig.set_size_inches(15, 1)\n",
    "    plt.show()"
   ]
  },
  {
   "cell_type": "code",
   "execution_count": 16,
   "metadata": {},
   "outputs": [
    {
     "data": {
      "image/png": "[encoded data removed]",
      "text/plain": [
       "<matplotlib.figure.Figure at 0x238d9a244a8>"
      ]
     },
     "metadata": {},
     "output_type": "display_data"
    }
   ],
   "source": [
    "N = 6\n",
    "l = 1\n",
    "x = np.random.rand(N)*l\n",
    "\n",
    "w_ = newton_descent(P, dP, ddP, 0, 2)[-1]\n",
    "    \n",
    "plot_village_with_internet(x, w_, l)"
   ]
  },
  {
   "cell_type": "markdown",
   "metadata": {},
   "source": [
    "## Задача 8 (3)\n",
    "Напишите функцию `stochastic_gradient_descent`, которая возвращает всю оптимизационную траекторию $(w_k)$ через фиксированное число шагов по методу стохастического градиентного спуска (градиент считается не по всем домикам деревни хоббитцов, а по случайному подмножеству)"
   ]
  },
  {
   "cell_type": "code",
   "execution_count": 10,
   "metadata": {},
   "outputs": [],
   "source": [
    "# Stochastic Gradient\n",
    "def dP_sigma(w, x, p=0.5):\n",
    "    random_mask = np.random.binomial(1, p, x.shape)\n",
    "    \n",
    "    return dP\n",
    "\n",
    "def stochastic_gradient_descent(P, dP_sigma, w0, mu, Nsteps):\n",
    "\n",
    "    return trajectory"
   ]
  },
  {
   "cell_type": "markdown",
   "metadata": {},
   "source": [
    "Увеличьте число домиков до $50$, сравните траектории алгоритмов градиентного и стохастического градиентного спуска. Сравните их.\n",
    "\n",
    "Hint: придется изменить размер шага, чтобы работало:)"
   ]
  },
  {
   "cell_type": "code",
   "execution_count": null,
   "metadata": {},
   "outputs": [],
   "source": []
  },
  {
   "cell_type": "markdown",
   "metadata": {},
   "source": [
    "Только-только жизнь обитателей одномерной деревни наладилась, как роскомнадзор (казалось бы, какое ему дело) сказал, что цена на кабель должна считаться совсем по другой формуле: \n",
    "$$\n",
    "p(d) = |d|\n",
    "$$"
   ]
  },
  {
   "cell_type": "markdown",
   "metadata": {},
   "source": [
    "## Задача 9 (3)\n",
    "Напишите функции `P`, `dP`, `ddP` в новых реалиях. Постройте их для заданного $x$ при различных $w$."
   ]
  },
  {
   "cell_type": "code",
   "execution_count": 19,
   "metadata": {},
   "outputs": [],
   "source": [
    "def P(w, x):\n",
    "    \n",
    "    return P\n",
    "\n",
    "def dP(w, x):\n",
    "    \n",
    "    return dP\n",
    "\n",
    "def ddP(w, x):\n",
    "    \n",
    "    return ddP"
   ]
  },
  {
   "cell_type": "code",
   "execution_count": null,
   "metadata": {},
   "outputs": [],
   "source": [
    "w = np.linspace(0,l)\n",
    "\n",
    "p = [P(w_i, x) for w_i in w]\n",
    "dp = [dP(w_i, x) for w_i in w]\n",
    "ddp = [ddP(w_i, x) for w_i in w]\n",
    "\n",
    "f, (ax1, ax2, ax3) = plt.subplots(1, 3, sharey=True)\n",
    "ax1.plot(w,p)\n",
    "ax1.set_title('P')\n",
    "ax2.plot(w,dp)\n",
    "ax2.set_title('dP')\n",
    "ax3.plot(w,ddp)\n",
    "ax3.set_title('ddP')\n",
    "ax2.set_xlabel('Router position')\n",
    "f.set_size_inches(18, 5)\n",
    "f.suptitle('Fuck RKN')\n",
    "plt.show()"
   ]
  },
  {
   "cell_type": "markdown",
   "metadata": {},
   "source": [
    "Найдите оптимальное значение $w^*$ в новых реалиях."
   ]
  },
  {
   "cell_type": "markdown",
   "metadata": {},
   "source": []
  },
  {
   "cell_type": "markdown",
   "metadata": {},
   "source": [
    "## Задача 10 (2)\n",
    "Постройте траекторию градиентного спуска в новых реалиях. Что Вы скажете роскомнадзору, когда он потребует решать эту задачу методом Ньютона (потому что они где то слышали, что надо использовать лучшие мировые практики)?"
   ]
  },
  {
   "cell_type": "code",
   "execution_count": null,
   "metadata": {
    "scrolled": true
   },
   "outputs": [],
   "source": []
  },
  {
   "cell_type": "markdown",
   "metadata": {},
   "source": [
    "## Задача 11 (3)\n",
    "Реализуйте функции `dP_sigma`, `stochastic_gradient_descent` в новых реалиях."
   ]
  },
  {
   "cell_type": "code",
   "execution_count": 22,
   "metadata": {},
   "outputs": [],
   "source": [
    "def dP_sigma(w, x, p=0.1):\n",
    "    random_mask = np.random.binomial(1, p, x.shape)\n",
    "    \n",
    "    return dP\n",
    "\n",
    "def stochastic_gradient_descent(P, dP_sigma, w0, mu, Nsteps):\n",
    "\n",
    "    return trajectory"
   ]
  },
  {
   "cell_type": "markdown",
   "metadata": {},
   "source": [
    "Постройте траектории градиентного и стохастического градиентного спуска. Поэксперементируйте с уровнем шума в стох. градиенте путем изменения доли домиков, по которым считается градиент ($p$). Проведите эксперименты для большого числа домиков (от $10000$) и сравните результаты."
   ]
  },
  {
   "cell_type": "code",
   "execution_count": null,
   "metadata": {},
   "outputs": [],
   "source": [
    "N = 50000\n",
    "l = 1\n",
    "x = np.random.rand(N)*l\n",
    "mu = ...\n",
    "\n",
    "list_gr = gradient_descent(P, dP, 0, mu, 100)\n",
    "P_gr =[P(w_, x) for w_ in list_gr]\n",
    "\n",
    "list_sgd = stochastic_gradient_descent(P, dP_sigma, 0, mu, 100)\n",
    "P_sgd =[P(w_, x) for w_ in list_sgd]\n",
    "\n",
    "plt.title('Stochastic vs Vanilla RKN Gradient Descent')\n",
    "\n",
    "plt.plot(P_sgd, label='SGD')\n",
    "plt.plot(P_gr, label='GD')\n",
    "plt.legend()\n",
    "fig = plt.gcf()\n",
    "fig = plt.gcf()\n",
    "fig.set_size_inches(12, 5)"
   ]
  },
  {
   "cell_type": "markdown",
   "metadata": {},
   "source": [
    "Дела шли своим чередом в деревне хоббитцов. Однако, как и всякое процветающее общество (коим без всяких сомнений себя считали хоббитцы), они решили, что их количество увеличилось достаточно для того, чтобы поставить второй датацетр (роутер) и проводить интернет к каждому дому от ближайшего к нему роутера.\n",
    "$$\n",
    "P(w_1, w_2, x) = \\sum\\limits_{i=1}^N p(d_i) = \\sum\\limits_{i=1}^N p\\left(\\min\\left(\\left|w_1 - x_i\\right|, \\left|w_2 - x_i\\right|\\right)\\right)\n",
    "$$"
   ]
  },
  {
   "cell_type": "markdown",
   "metadata": {},
   "source": [
    "## Задача 12 (2)\n",
    "Напишите функции `P`, `dP` в новых реалиях. Постройте их для заданного $x$ при различных $w_1, w_2$. Помните, что градиент в этом случае представляет собой двумерный вектор."
   ]
  },
  {
   "cell_type": "code",
   "execution_count": 24,
   "metadata": {},
   "outputs": [],
   "source": [
    "def P(w1, w2, x):\n",
    "    return P\n",
    "\n",
    "def dP(w1, w2, x):\n",
    "    return dP"
   ]
  },
  {
   "cell_type": "markdown",
   "metadata": {},
   "source": [
    "Постройте графики $P(w_1, w_2), \\nabla P(w_1, w_2)$ для различных значений $N$. Прокомментируйте, что происходит по мере увеличения $N$."
   ]
  },
  {
   "cell_type": "code",
   "execution_count": null,
   "metadata": {},
   "outputs": [],
   "source": [
    "N = 100\n",
    "l = 1\n",
    "x = np.random.rand(N)*l\n",
    "\n",
    "w1 = np.linspace(0,l)\n",
    "w2 = np.linspace(0,l)\n",
    "\n",
    "p = np.zeros([w1.shape[0], w1.shape[0]])\n",
    "dp = np.zeros([w1.shape[0], w1.shape[0]])\n",
    "\n",
    "i = 0\n",
    "for w1_ in w1:\n",
    "    j = 0\n",
    "    for w2_ in w2:\n",
    "        p[i][j]  =  P(w1_, w2_, x)\n",
    "        dp[i][j] = np.linalg.norm(dP(w1_, w2_, x))\n",
    "        j += 1\n",
    "    i += 1\n",
    "\n",
    "f, (ax1, ax2) = plt.subplots(1, 2, sharey=True)\n",
    "c1 = ax1.contourf(w1, w2, p, cmap=\"viridis\")\n",
    "plt.colorbar(c1, ax = ax1)\n",
    "ax1.set_title('P')\n",
    "c2 = ax2.contourf(w1, w2, dp, cmap=\"viridis\")\n",
    "plt.colorbar(c2, ax = ax2)\n",
    "ax2.set_title('dP')\n",
    "\n",
    "f.set_size_inches(12, 5)\n",
    "f.suptitle('2 routers')\n",
    "plt.show()"
   ]
  },
  {
   "cell_type": "markdown",
   "metadata": {},
   "source": [
    "## Задача 13 (4)\n",
    "Напишите функцию `gradient_descent`, которая возвращает всю оптимизационную траекторию $(w_k)$ через фиксированное число шагов и рисует процесс на графиках $P$ и $\\nabla P$, что были выше (анимацию)."
   ]
  },
  {
   "cell_type": "code",
   "execution_count": null,
   "metadata": {
    "scrolled": true
   },
   "outputs": [],
   "source": [
    "def gradient_descent(P, dP_sigma, w0, mu, Nsteps):\n",
    "    \n",
    "    return trajectory"
   ]
  },
  {
   "cell_type": "markdown",
   "metadata": {},
   "source": [
    "## Задача 14 (4)\n",
    "Напишите функцию `stochastic_gradient_descent`, которая возвращает всю оптимизационную траекторию $(w_k)$ метода стохастического градиентного спуска через фиксированное число шагов и рисует процесс на графиках $P$ и $\\nabla P$, что были выше (анимацию)."
   ]
  },
  {
   "cell_type": "code",
   "execution_count": 11,
   "metadata": {},
   "outputs": [],
   "source": [
    "def stochastic_gradient_descent(P, dP_sigma, w0, mu, Nsteps):\n",
    "    \n",
    "    return trajectory"
   ]
  },
  {
   "cell_type": "markdown",
   "metadata": {},
   "source": [
    "## Задача 15 (4)\n",
    "На практике Вам не так часто нужно будет писать свой собстенный алгоритм оптимизации. Решите поставленную выше задачу (2 станции, роскомнадзоровская норма) любым алгоритмом оптимизации из любой библиотеки Python. (cvxpy, scipy и т.д.)\n",
    "Нарисуйте такие же анимашки."
   ]
  },
  {
   "cell_type": "code",
   "execution_count": null,
   "metadata": {},
   "outputs": [],
   "source": [
    "N = 1000\n",
    "l = 1\n",
    "x = np.random.rand(N)*l\n"
   ]
  },
  {
   "cell_type": "markdown",
   "metadata": {},
   "source": [
    "Одномерная деревня научилась решать свои проблемы при любом числе и раположении жителей в мгновение ока. Улучшив качество интернета, хоббитцы смотрели онлайн-курсы и мемесы и жили припеваючи. Как Вы могли догадаться, роскомнадзору это не очень по душе. Вот тут то они выкатили новое требование о том, что дата-центры (роутеры) должны стоять не более, чем на расстоянии половины деревни друг от друга, чтобы силовым структурам было легче собирать информацию о том, как используют интернет жители деревни Одномерново.\n",
    "\n",
    "$$\n",
    "\\left|w_1 - w_2\\right| \\leq \\dfrac{l}{2}\n",
    "$$"
   ]
  },
  {
   "cell_type": "markdown",
   "metadata": {},
   "source": [
    "## Задача 16 (2)\n",
    "Нарисуйте на плоскости допустимое множество решений. Выпукло ли оно?"
   ]
  },
  {
   "cell_type": "markdown",
   "metadata": {},
   "source": [
    "## Задача 17 (4)\n",
    "Напишите функцию `conditional_SGD`, которая возвращает всю оптимизационную траекторию $(w_k)$ метода условного стохастического градиентного спуска через фиксированное число шагов и рисует процесс на графиках $P$ и $\\nabla P$, что были выше (анимацию).\n",
    "\n",
    "Метод условного градиентного спуска заключается в том, чтобы делать градиентный шаг, а после этого проверять принадлежность полученной точки целевому множеству. Если она ему принадлежит, то алгоритм продолжается, иначе делается ортогональная проекция на целевое множество."
   ]
  },
  {
   "cell_type": "code",
   "execution_count": null,
   "metadata": {},
   "outputs": [],
   "source": [
    "def conditional_SGD(P, dP_sigma, w0, mu, Nsteps):\n",
    "    \n",
    "    return trajectory"
   ]
  },
  {
   "cell_type": "markdown",
   "metadata": {},
   "source": [
    "## Задача 18 (5)\n",
    "Напишите функцию `multi_newton`, которая реализует решение двумерной задачи с $p(d) = d^3$ методом Ньютона и возвращает траекторию работы алгоритма. Сравните результаты для данной задачи с методом стохастического градиентного спуска."
   ]
  },
  {
   "cell_type": "code",
   "execution_count": null,
   "metadata": {},
   "outputs": [],
   "source": [
    "def multi_newton(P, dP, ddP, w0, Nsteps):\n",
    "    w = w0\n",
    "    w_ = []\n",
    "    for i in range(Nsteps):\n",
    "        w_.append(w)\n",
    "        w -= dP(w, x)/ddP(w,x)\n",
    "    w_.append(w)\n",
    "    return w_"
   ]
  },
  {
   "cell_type": "code",
   "execution_count": 53,
   "metadata": {},
   "outputs": [
    {
     "data": {
      "text/html": [
       "<link href=\"https://fonts.googleapis.com/css?family=Open+Sans+Condensed:300,700|Open+Sans:400,400i,700&amp;subset=cyrillic\" rel=\"stylesheet\">\n",
       "<link href='http://fonts.googleapis.com/css?family=Source+Code+Pro:300,400' rel='stylesheet' type='text/css'>\n",
       "<style>\n",
       "    @font-face {\n",
       "        font-family: \"Computer Modern\";\n",
       "        src: url('http://mirrors.ctan.org/fonts/cm-unicode/fonts/otf/cmunss.otf');\n",
       "    }\n",
       "    div.cell{\n",
       "        /*width:80%;*/\n",
       "        /*margin-left:auto !important;\n",
       "        margin-right:auto;*/\n",
       "    }\n",
       "    h1 {\n",
       "        font-family: 'Open Sans Condensed', sans-serif;\n",
       "    }\n",
       "    h2 {\n",
       "        font-family: 'Open Sans', serif;\n",
       "    }\n",
       "    h3{\n",
       "\t\tfont-family: 'Open Sans', serif;\n",
       "        margin-top:12px;\n",
       "        margin-bottom: 3px;\n",
       "       }\n",
       "\th4{\n",
       "\t\tfont-family: 'Open Sans', serif;\n",
       "       }\n",
       "    h5 {\n",
       "        font-family: 'Open Sans', sans-serif;\n",
       "    }\n",
       "    div.text_cell_render{\n",
       "        font-family: 'Alegreya Sans',Computer Modern, \"Helvetica Neue\", Arial, Helvetica, Geneva, sans-serif;\n",
       "        line-height: 1.2;\n",
       "        font-size: 120%;\n",
       "        width:99%;\n",
       "        margin-left:auto;\n",
       "        margin-right:auto;\n",
       "    }\n",
       "    .CodeMirror{\n",
       "            font-family: \"Source Code Pro\";\n",
       "\t\t\tfont-size: 90%;\n",
       "    }\n",
       "/*    .prompt{\n",
       "        display: None;\n",
       "    }*/\n",
       "    .text_cell_render h1 {\n",
       "        font-weight: 200;\n",
       "        font-size: 50pt;\n",
       "\t\tline-height: 110%;\n",
       "        color:#CD2305;\n",
       "        margin-bottom: 0.5em;\n",
       "        margin-top: 0.5em;\n",
       "        display: block;\n",
       "    }\n",
       "    .text_cell_render h5 {\n",
       "        font-weight: 300;\n",
       "        font-size: 24pt;\n",
       "        color: #CD2305;\n",
       "        font-style: italic;\n",
       "        margin-bottom: .5em;\n",
       "        margin-top: 0.5em;\n",
       "        display: block;\n",
       "    }\n",
       "\n",
       "    /*div.cell{\n",
       "        width:99%;\n",
       "        margin-left:1%;\n",
       "        margin-right:1%; ! important\n",
       "    }*/\n",
       "\n",
       "    li {\n",
       "        line-height: 110%;\n",
       "    }\n",
       "    .warning{\n",
       "        color: rgb( 240, 20, 20 )\n",
       "        }\n",
       "\n",
       "    .output_png {\n",
       "    display: table-cell;\n",
       "    text-align: center;\n",
       "    vertical-align: middle;\n",
       "\t}\n",
       "\n",
       "</style>\n",
       "\n",
       "<script>\n",
       "    MathJax.Hub.Config({\n",
       "                        TeX: {\n",
       "                           extensions: [\"AMSmath.js\"]\n",
       "                           },\n",
       "                tex2jax: {\n",
       "                    inlineMath: [ ['$','$'], [\"\\\\(\",\"\\\\)\"] ],\n",
       "                    displayMath: [ ['$$','$$'], [\"\\\\[\",\"\\\\]\"] ]\n",
       "                },\n",
       "                displayAlign: 'center', // Change this to 'center' to center equations.\n",
       "                \"HTML-CSS\": {\n",
       "                    styles: {'.MathJax_Display': {\"margin\": 4}}\n",
       "                }\n",
       "        });\n",
       "</script>\n"
      ],
      "text/plain": [
       "<IPython.core.display.HTML object>"
      ]
     },
     "execution_count": 53,
     "metadata": {},
     "output_type": "execute_result"
    }
   ],
   "source": [
    "from IPython.core.display import HTML\n",
    "def css_styling():\n",
    "    styles = open(\"custom.css\", \"r\").read() #or edit path to custom.css\n",
    "    return HTML(styles)\n",
    "css_styling()"
   ]
  }
 ],
 "metadata": {
  "kernelspec": {
   "display_name": "Python 3",
   "language": "python",
   "name": "python3"
  },
  "language_info": {
   "codemirror_mode": {
    "name": "ipython",
    "version": 3
   },
   "file_extension": ".py",
   "mimetype": "text/x-python",
   "name": "python",
   "nbconvert_exporter": "python",
   "pygments_lexer": "ipython3",
   "version": "3.6.4"
  }
 },
 "nbformat": 4,
 "nbformat_minor": 2
}
